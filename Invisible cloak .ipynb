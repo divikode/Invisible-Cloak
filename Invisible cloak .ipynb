{
 "cells": [
  {
   "cell_type": "code",
   "execution_count": 1,
   "id": "733b9830",
   "metadata": {},
   "outputs": [
    {
     "name": "stdout",
     "output_type": "stream",
     "text": [
      "\n",
      "This program is now running, bring out your red colored cloak and see the magic!!\n",
      "    \n"
     ]
    },
    {
     "ename": "KeyboardInterrupt",
     "evalue": "",
     "output_type": "error",
     "traceback": [
      "\u001b[1;31m---------------------------------------------------------------------------\u001b[0m",
      "\u001b[1;31mKeyboardInterrupt\u001b[0m                         Traceback (most recent call last)",
      "Cell \u001b[1;32mIn[1], line 46\u001b[0m\n\u001b[0;32m     44\u001b[0m img[np\u001b[38;5;241m.\u001b[39mwhere(mask \u001b[38;5;241m==\u001b[39m \u001b[38;5;241m255\u001b[39m)] \u001b[38;5;241m=\u001b[39m background[np\u001b[38;5;241m.\u001b[39mwhere(mask \u001b[38;5;241m==\u001b[39m \u001b[38;5;241m255\u001b[39m)]\n\u001b[0;32m     45\u001b[0m cv2\u001b[38;5;241m.\u001b[39mimshow(\u001b[38;5;124m'\u001b[39m\u001b[38;5;124mDisplay\u001b[39m\u001b[38;5;124m'\u001b[39m, img)\n\u001b[1;32m---> 46\u001b[0m k \u001b[38;5;241m=\u001b[39m cv2\u001b[38;5;241m.\u001b[39mwaitKey(\u001b[38;5;241m10\u001b[39m)\n\u001b[0;32m     47\u001b[0m \u001b[38;5;28;01mif\u001b[39;00m k \u001b[38;5;241m==\u001b[39m \u001b[38;5;241m27\u001b[39m:\n\u001b[0;32m     48\u001b[0m     \u001b[38;5;28;01mbreak\u001b[39;00m\n",
      "\u001b[1;31mKeyboardInterrupt\u001b[0m: "
     ]
    }
   ],
   "source": [
    "import cv2\n",
    "import numpy as np\n",
    "import time\n",
    "\n",
    "print(\"\"\"\n",
    "This program is now running, bring out your red colored cloak and see the magic!!\n",
    "    \"\"\")\n",
    "\n",
    "cap = cv2.VideoCapture(0)\n",
    "time.sleep(3)\n",
    "background = 0\n",
    "for i in range(40):\n",
    "    ret, background = cap.read()\n",
    "\n",
    "background = np.flip(background, axis=1)\n",
    "\n",
    "while (cap.isOpened()):\n",
    "    ret, img = cap.read()\n",
    "\n",
    "    # Flipping the image (Can be uncommented if needed)\n",
    "    img = np.flip(img, axis=1)\n",
    "\n",
    "    # Converting image to HSV color space.\n",
    "    hsv = cv2.cvtColor(img, cv2.COLOR_BGR2HSV)\n",
    "    value = (35, 35)\n",
    "\n",
    "    blurred = cv2.GaussianBlur(hsv, value, 0)\n",
    "\n",
    "    # Defining lower range for red color detection.\n",
    "    lower_red = np.array([0, 120, 70])\n",
    "    upper_red = np.array([10, 255, 255])\n",
    "    mask1 = cv2.inRange(hsv, lower_red, upper_red)\n",
    "\n",
    "    # Defining upper range for red color detection\n",
    "    lower_red = np.array([170, 120, 70])\n",
    "    upper_red = np.array([180, 255, 255])\n",
    "    mask2 = cv2.inRange(hsv, lower_red, upper_red)\n",
    "\n",
    "    # Addition of the two masks to generate the final mask.\n",
    "    mask = mask1 + mask2\n",
    "    mask = cv2.morphologyEx(mask, cv2.MORPH_OPEN, np.ones((5, 5), np.uint8))\n",
    "\n",
    "    # Replacing pixels corresponding to cloak with the background pixels.\n",
    "    img[np.where(mask == 255)] = background[np.where(mask == 255)]\n",
    "    cv2.imshow('Display', img)\n",
    "    k = cv2.waitKey(10)\n",
    "    if k == 27:\n",
    "        break"
   ]
  },
  {
   "cell_type": "code",
   "execution_count": 3,
   "id": "5737a1b7",
   "metadata": {},
   "outputs": [
    {
     "name": "stdout",
     "output_type": "stream",
     "text": [
      "Requirement already satisfied: opencv-python in c:\\users\\divyansh singh\\anaconda3\\lib\\site-packages (4.8.0.76)\n",
      "Requirement already satisfied: numpy>=1.21.2 in c:\\users\\divyansh singh\\anaconda3\\lib\\site-packages (from opencv-python) (1.24.3)\n"
     ]
    }
   ],
   "source": [
    "!pip install opencv-python"
   ]
  }
 ],
 "metadata": {
  "kernelspec": {
   "display_name": "Python 3 (ipykernel)",
   "language": "python",
   "name": "python3"
  },
  "language_info": {
   "codemirror_mode": {
    "name": "ipython",
    "version": 3
   },
   "file_extension": ".py",
   "mimetype": "text/x-python",
   "name": "python",
   "nbconvert_exporter": "python",
   "pygments_lexer": "ipython3",
   "version": "3.11.4"
  }
 },
 "nbformat": 4,
 "nbformat_minor": 5
}
